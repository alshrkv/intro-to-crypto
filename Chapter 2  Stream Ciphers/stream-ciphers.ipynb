{
 "cells": [
  {
   "cell_type": "markdown",
   "metadata": {},
   "source": [
    "# Problems of Chapter 2"
   ]
  },
  {
   "cell_type": "markdown",
   "metadata": {},
   "source": [
    "## 2.1"
   ]
  },
  {
   "cell_type": "code",
   "execution_count": null,
   "metadata": {},
   "outputs": [],
   "source": [
    "from string import ascii_lowercase\n",
    "\n",
    "\n",
    "def decode_letter(y: str, s: str, alphabet=ascii_lowercase) -> str:\n",
    "    if y not in alphabet:\n",
    "        return y\n",
    "    return alphabet[(alphabet.index(y) - alphabet.index(s)) % len(alphabet)]\n",
    "\n",
    "\n",
    "ciphertext = \"bsaspp kkuosr\"\n",
    "key = \"rsidpy dkawoa\"\n",
    "plaintext = \"\".join(map(decode_letter, ciphertext, key))\n",
    "print(f\"{plaintext =}\")"
   ]
  },
  {
   "attachments": {},
   "cell_type": "markdown",
   "metadata": {},
   "source": [
    "## 2.4"
   ]
  },
  {
   "attachments": {},
   "cell_type": "markdown",
   "metadata": {},
   "source": [
    "From [wikipedia](https://en.wikipedia.org/wiki/One-time_pad#Perfect_secrecy):\n",
    "\n",
    "> [...] the ciphertext C gives absolutely no additional information about the plaintext. This is because (intuitively), given a truly uniformly random key that is used only once, a ciphertext can be translated into any plaintext of the same length, and all are equally likely."
   ]
  },
  {
   "attachments": {},
   "cell_type": "markdown",
   "metadata": {},
   "source": [
    "## 2.6"
   ]
  },
  {
   "attachments": {},
   "cell_type": "markdown",
   "metadata": {},
   "source": [
    "If Oscar knows $t$ consecutive plaintext/ciphertext pairs, where $t$ is the period length, he can recover enough key stream bits to decrypt all ciphertext:\n",
    "\n",
    "$$\n",
    "\\begin{align*}\n",
    "s_i &= x_i \\oplus y_i, & i &= 0, 1, \\dots t - 1 & \\\\\n",
    "x_i &= s_j \\oplus y_i, & i &= t, t + 1, \\dots, & j \\equiv i \\mod t\n",
    "\\end{align*}\n",
    "$$"
   ]
  },
  {
   "attachments": {},
   "cell_type": "markdown",
   "metadata": {},
   "source": [
    "## 2.8"
   ]
  },
  {
   "cell_type": "code",
   "execution_count": null,
   "metadata": {},
   "outputs": [],
   "source": [
    "import tabulate\n",
    "\n",
    "from lfsr import LFSR\n",
    "\n",
    "\n",
    "def table_of_states_of_lfsr(lfsr: LFSR, num_states: int) -> str:\n",
    "    \"\"\"Return a sequence of states of the LFSR formatted as an html table,\n",
    "    similar to table 2.2 of the book.\n",
    "    \"\"\"\n",
    "    states = []\n",
    "    it = iter(lfsr)\n",
    "    for _ in range(num_states):\n",
    "        state = list(lfsr.registers)\n",
    "        state.reverse()\n",
    "        states.append(state)\n",
    "        next(it)\n",
    "\n",
    "    headers = [f\"FF{i}\" for i in range(len(lfsr.registers))]\n",
    "    headers.append(\"clk\")\n",
    "    headers.reverse()\n",
    "\n",
    "    return tabulate.tabulate(states, headers=headers, showindex=True, tablefmt=\"html\")"
   ]
  },
  {
   "cell_type": "code",
   "execution_count": null,
   "metadata": {},
   "outputs": [],
   "source": [
    "# primitive polynomial: x4 + x + 1\n",
    "table_of_states_of_lfsr(LFSR((1, 1, 0, 0), (0, 0, 0, 1)), 16)"
   ]
  },
  {
   "cell_type": "code",
   "execution_count": null,
   "metadata": {},
   "outputs": [],
   "source": [
    "# reducible polynomial: x4 + x2 + 1\n",
    "# first sequence:\n",
    "table_of_states_of_lfsr(LFSR((1, 0, 1, 0), (0, 0, 0, 1)), 7)"
   ]
  },
  {
   "cell_type": "code",
   "execution_count": null,
   "metadata": {},
   "outputs": [],
   "source": [
    "# reducible polynomial: x4 + x2 + 1\n",
    "# second sequence:\n",
    "table_of_states_of_lfsr(LFSR((1, 0, 1, 0), (1, 1, 1, 1)), 7)"
   ]
  },
  {
   "cell_type": "code",
   "execution_count": null,
   "metadata": {},
   "outputs": [],
   "source": [
    "# reducible polynomial: x4 + x2 + 1\n",
    "# third_sequence:\n",
    "table_of_states_of_lfsr(LFSR((1, 0, 1, 0), (1, 0, 1, 1)), 4)"
   ]
  },
  {
   "cell_type": "code",
   "execution_count": null,
   "metadata": {},
   "outputs": [],
   "source": [
    "# irreducible polynomial: x4 + x3 + x2 + x + 1\n",
    "# first sequence:\n",
    "table_of_states_of_lfsr(LFSR((1, 1, 1, 1), (0, 0, 0, 1)), 6)"
   ]
  },
  {
   "cell_type": "code",
   "execution_count": null,
   "metadata": {},
   "outputs": [],
   "source": [
    "# irreducible polynomial: x4 + x3 + x2 + x + 1\n",
    "# second sequence:\n",
    "table_of_states_of_lfsr(LFSR((1, 1, 1, 1), (1, 1, 1, 1)), 6)"
   ]
  },
  {
   "cell_type": "code",
   "execution_count": null,
   "metadata": {},
   "outputs": [],
   "source": [
    "# irreducible polynomial: x4 + x3 + x2 + x + 1\n",
    "# third sequence:\n",
    "table_of_states_of_lfsr(LFSR((1, 1, 1, 1), (1, 0, 0, 1)), 6)"
   ]
  },
  {
   "cell_type": "markdown",
   "metadata": {},
   "source": [
    "## 2.10"
   ]
  },
  {
   "cell_type": "code",
   "execution_count": null,
   "metadata": {},
   "outputs": [],
   "source": [
    "import math\n",
    "from collections.abc import Iterable\n",
    "\n",
    "import numpy as np\n",
    "from more_itertools import take, all_equal, chunked\n",
    "\n",
    "from lfsr import LFSR\n",
    "\n",
    "\n",
    "def compute_coefficients(key_stream: Iterable[int], degree: int) -> list[int]:\n",
    "    \"\"\"Apply a known-plaintext attack to recover the feedback coefficients.\"\"\"\n",
    "    key_stream_bits = take(2 * degree, key_stream)\n",
    "\n",
    "    A = np.array([key_stream_bits[i : i + degree] for i in range(degree)])\n",
    "    B = np.array(key_stream_bits[degree : 2 * degree])\n",
    "    x = np.linalg.solve(A, B)\n",
    "\n",
    "    return (x.astype(int) % 2).tolist()\n",
    "\n",
    "\n",
    "plaintext = \"1001001001101101100100100110\"\n",
    "ciphertext = \"1011110000110001001010110001\"\n",
    "\n",
    "key_stream_bits = [int(x) ^ int(y) for x, y in zip(plaintext, ciphertext)]\n",
    "\n",
    "# we can observe a repeating pattern with a period length of 7:\n",
    "print(f\"{key_stream_bits = }\")\n",
    "assert all_equal(chunked(key_stream_bits, 7))\n",
    "\n",
    "# assuming maximum-length LFSR:\n",
    "period_length = 7\n",
    "degree = int(math.log2(period_length + 1))\n",
    "\n",
    "iv = key_stream_bits[:degree]\n",
    "coefficients = compute_coefficients(key_stream_bits, degree)\n",
    "\n",
    "assert take(len(key_stream_bits), LFSR(coefficients, iv)) == key_stream_bits\n",
    "\n",
    "print(f\"{degree = }\")\n",
    "print(f\"{iv = }\")\n",
    "print(f\"{coefficients = }\")"
   ]
  },
  {
   "cell_type": "markdown",
   "metadata": {},
   "source": [
    "## 2.11"
   ]
  },
  {
   "cell_type": "code",
   "execution_count": null,
   "metadata": {},
   "outputs": [],
   "source": [
    "from operator import xor\n",
    "\n",
    "from more_itertools import flatten\n",
    "\n",
    "from lfsr import LFSR\n",
    "\n",
    "ALPHABET = ascii_lowercase + \"012345\"\n",
    "\n",
    "\n",
    "def encode_letter(letter: str) -> list[int]:\n",
    "    # z => [1, 1, 0, 1, 0]\n",
    "    i = ALPHABET.index(letter)\n",
    "    m = math.ceil(math.log2(len(ALPHABET)))\n",
    "    bits = []\n",
    "    for _ in range(m):\n",
    "        bits.append(i % 2)\n",
    "        i //= 2\n",
    "    bits.reverse()\n",
    "    return bits\n",
    "\n",
    "\n",
    "def decode_letter(bits: list[int]) -> str:\n",
    "    # [1, 1, 0, 1, 0] => z\n",
    "    return ALPHABET[sum(2**i for i, bit in enumerate(reversed(bits)) if bit)]\n",
    "\n",
    "\n",
    "degree = 6\n",
    "header = \"wpi\"\n",
    "ciphertext = \"j5a0edj2b\"\n",
    "\n",
    "header_bits = flatten(map(encode_letter, header))\n",
    "ciphertext_bits = list(flatten(map(encode_letter, ciphertext)))\n",
    "key_stream_bits = list(map(xor, header_bits, ciphertext_bits))\n",
    "\n",
    "iv = key_stream_bits[:degree]\n",
    "coefficients = compute_coefficients(key_stream_bits, degree)\n",
    "lfsr = LFSR(coefficients, iv)\n",
    "\n",
    "plaintext_bits = map(xor, ciphertext_bits, lfsr)\n",
    "plaintext = \"\".join(map(decode_letter, chunked(plaintext_bits, 5)))\n",
    "\n",
    "assert plaintext[:3] == header\n",
    "\n",
    "print(f\"{iv = }\")\n",
    "print(f\"{coefficients = }\")\n",
    "print(f\"{plaintext = }\")"
   ]
  },
  {
   "cell_type": "markdown",
   "metadata": {},
   "source": [
    "## 2.12"
   ]
  },
  {
   "cell_type": "code",
   "execution_count": null,
   "metadata": {},
   "outputs": [],
   "source": [
    "bits = \"\"\n",
    "s = [0] * 285 + [1, 1, 1]\n",
    "\n",
    "for i in range(70):\n",
    "    t1 = s[65] ^ s[92]\n",
    "    t2 = s[161] ^ s[176]\n",
    "    t3 = s[242] ^ s[287]\n",
    "\n",
    "    bits += str(t1 ^ t2 ^ t3)\n",
    "\n",
    "    t1 ^= s[90] & s[91] ^ s[170]\n",
    "    t2 ^= s[174] & s[175] ^ s[263]\n",
    "    t3 ^= s[285] & s[286] ^ s[68]\n",
    "\n",
    "    s[:93] = [t3] + s[:92]\n",
    "    s[93:177] = [t1] + s[93:176]\n",
    "    s[177:] = [t2] + s[177:287]\n",
    "\n",
    "bits"
   ]
  }
 ],
 "metadata": {
  "kernelspec": {
   "display_name": "Python 3.10.8 64-bit",
   "language": "python",
   "name": "python3"
  },
  "language_info": {
   "codemirror_mode": {
    "name": "ipython",
    "version": 3
   },
   "file_extension": ".py",
   "mimetype": "text/x-python",
   "name": "python",
   "nbconvert_exporter": "python",
   "pygments_lexer": "ipython3",
   "version": "3.11.3"
  },
  "vscode": {
   "interpreter": {
    "hash": "1a3499d68ab34960d3253934d550634c1fe6298d20145e825c805bbe7e10ca5f"
   }
  }
 },
 "nbformat": 4,
 "nbformat_minor": 2
}
