{
 "cells": [
  {
   "cell_type": "markdown",
   "metadata": {},
   "source": [
    "# Problems of Chapter 3"
   ]
  },
  {
   "cell_type": "markdown",
   "metadata": {},
   "source": [
    "## 3.2"
   ]
  },
  {
   "cell_type": "code",
   "execution_count": null,
   "metadata": {},
   "outputs": [],
   "source": [
    "import tabulate\n",
    "\n",
    "from .. import des\n",
    "\n",
    "\n",
    "def normalize_table(table):\n",
    "    # DES table -> customary Python dictionary\n",
    "    return {\n",
    "        input_pos: output_pos for output_pos, input_pos in enumerate(table, start=1)\n",
    "    }\n",
    "\n",
    "\n",
    "IP = normalize_table(des.INITIAL_PERMUTATION)\n",
    "FP = normalize_table(des.FINAL_PERMUTATION)\n",
    "\n",
    "tabulate.tabulate(\n",
    "    [[pos, IP[pos], FP[IP[pos]]] for pos in range(1, 6)],\n",
    "    headers=[\"pos\", \"IP(pos)\", \"FP(IP(pos))\"],\n",
    "    tablefmt=\"html\",\n",
    ")"
   ]
  },
  {
   "cell_type": "markdown",
   "metadata": {},
   "source": [
    "## 3.4"
   ]
  },
  {
   "cell_type": "code",
   "execution_count": null,
   "metadata": {},
   "outputs": [],
   "source": [
    "plaintext = key = 0xFFFF_FFFF_FFFF_FFFF\n",
    "\n",
    "data = des.permute(plaintext, 64, des.INITIAL_PERMUTATION)\n",
    "k1 = next(des.key_schedule(key))\n",
    "L0, R0 = des.split_at_right(data, 32)\n",
    "L1, R1 = R0, L0 ^ des.f(R0, k1)\n",
    "\n",
    "print(f\"(L1, R1) = ({L1:08X}, {R1:08X})\")"
   ]
  },
  {
   "cell_type": "markdown",
   "metadata": {},
   "source": [
    "## 3.6"
   ]
  },
  {
   "cell_type": "code",
   "execution_count": null,
   "metadata": {},
   "outputs": [],
   "source": [
    "import math\n",
    "from itertools import accumulate\n",
    "\n",
    "\n",
    "PC1 = normalize_table(des.PERMUTED_CHOICE1)\n",
    "PC2 = normalize_table(des.PERMUTED_CHOICE2)\n",
    "\n",
    "\n",
    "def rotate_pos_left(i: int, rot: int) -> int:\n",
    "    return (i - rot - 1) % 28 + 1\n",
    "\n",
    "\n",
    "def which_s_box_at_pos(i: int) -> int:\n",
    "    return math.ceil(i / 6)\n",
    "\n",
    "\n",
    "pos_after_LS = list(accumulate(des.ROTATIONS, rotate_pos_left, initial=PC1[1]))\n",
    "pos_after_LS.pop(0)\n",
    "\n",
    "pos_after_PC2 = [PC2.get(i) for i in pos_after_LS]\n",
    "\n",
    "affected_S_boxes = [\n",
    "    which_s_box_at_pos(i) if i is not None else i for i in pos_after_PC2\n",
    "]\n",
    "\n",
    "tabulate.tabulate(\n",
    "    zip(range(1, 17), pos_after_LS, pos_after_PC2, affected_S_boxes),\n",
    "    headers=[\"round\", \"pos after LS\", \"pos after PC-2\", \"affected S-box\"],\n",
    "    missingval=\"N/A\",\n",
    "    tablefmt=\"html\",\n",
    ")"
   ]
  },
  {
   "cell_type": "markdown",
   "metadata": {},
   "source": [
    "## 3.10"
   ]
  },
  {
   "attachments": {},
   "cell_type": "markdown",
   "metadata": {},
   "source": [
    "We can express the clock frequency required to achieve a given data rate as:\n",
    "$$\\text{clock frequency} = \\frac{\\text{data rate}}{\\text{bits per cycle}}$$\n",
    "\n",
    "The bits per cycle ratio for the given setup is:\n",
    "$$\\frac{1 \\text{ iteration}} {1 \\text{ clock cycle}} \\cdot \\frac{64 \\text{ bits}} {16 \\text{ iterations}} = 4 \\text{ bit/cycle}$$\n",
    "\n",
    "Clock frequency required for encrypting a fast network link running at a speed of 1 Gb/sec:\n",
    "$$\\frac{1 \\text{ Gbit/sec}}{4 \\text{ bit/cycle}} = 250\\text{ MHz}$$\n",
    "\n",
    "Clock frequency required to support a speed of 8 Gb/sec:\n",
    "$$\\frac{8 \\text{ Gbit/sec}}{4 \\text{ bit/cycle}} = 2\\text{ GHz}$$"
   ]
  },
  {
   "cell_type": "markdown",
   "metadata": {},
   "source": [
    "## 3.12"
   ]
  },
  {
   "cell_type": "code",
   "execution_count": null,
   "metadata": {},
   "outputs": [],
   "source": [
    "from datetime import timedelta\n",
    "from string import ascii_uppercase\n",
    "\n",
    "import humanize\n",
    "\n",
    "\n",
    "def average_key_search_time(key_space: int, key_test_speed: int = 10**6) -> str:\n",
    "    return humanize.naturaldelta(timedelta(seconds=key_space / key_test_speed) / 2)"
   ]
  },
  {
   "cell_type": "code",
   "execution_count": null,
   "metadata": {},
   "outputs": [],
   "source": [
    "# 8 randomly chosen 8-bit ASCII characters\n",
    "print(average_key_search_time(2**56))  # 64 bits - 8 LSB"
   ]
  },
  {
   "cell_type": "code",
   "execution_count": null,
   "metadata": {},
   "outputs": [],
   "source": [
    "# 8 randomly chosen 7-bit ASCII characters\n",
    "print(average_key_search_time(2**48))  # 64 bits - 8 LSB - 8 MSB"
   ]
  },
  {
   "cell_type": "code",
   "execution_count": null,
   "metadata": {},
   "outputs": [],
   "source": [
    "# only uppercase letters w/o LSB\n",
    "key_space = {chr(ord(letter) >> 1) for letter in ascii_uppercase}\n",
    "print(f\"{key_space = }\")\n",
    "print(average_key_search_time(len(key_space) ** 8))"
   ]
  }
 ],
 "metadata": {
  "kernelspec": {
   "display_name": "Python 3.10.8 64-bit",
   "language": "python",
   "name": "python3"
  },
  "language_info": {
   "codemirror_mode": {
    "name": "ipython",
    "version": 3
   },
   "file_extension": ".py",
   "mimetype": "text/x-python",
   "name": "python",
   "nbconvert_exporter": "python",
   "pygments_lexer": "ipython3",
   "version": "3.11.3"
  },
  "vscode": {
   "interpreter": {
    "hash": "1a3499d68ab34960d3253934d550634c1fe6298d20145e825c805bbe7e10ca5f"
   }
  }
 },
 "nbformat": 4,
 "nbformat_minor": 2
}
