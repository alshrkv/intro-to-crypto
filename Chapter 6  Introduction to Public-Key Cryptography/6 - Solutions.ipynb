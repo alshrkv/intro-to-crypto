{
 "cells": [
  {
   "attachments": {},
   "cell_type": "markdown",
   "metadata": {},
   "source": [
    "# Problems of Chapter 6"
   ]
  },
  {
   "attachments": {},
   "cell_type": "markdown",
   "metadata": {},
   "source": [
    "## 6.1"
   ]
  },
  {
   "attachments": {},
   "cell_type": "markdown",
   "metadata": {},
   "source": [
    "Symmetric ciphers are faster, operate with shorter keys, and are more likely to survive the possible advent of quantum computers."
   ]
  },
  {
   "attachments": {},
   "cell_type": "markdown",
   "metadata": {},
   "source": [
    "## 6.2"
   ]
  },
  {
   "cell_type": "code",
   "execution_count": null,
   "metadata": {},
   "outputs": [],
   "source": [
    "from datetime import timedelta\n",
    "\n",
    "import humanize\n",
    "\n",
    "\n",
    "def calculate_decryption_time(file_size: int, rate: float) -> timedelta:\n",
    "    return timedelta(seconds=file_size / rate)\n",
    "\n",
    "\n",
    "file_size = 10**9  # bytes\n",
    "rsa_rate = 100 * 10**3 / 8  # bytes/sec\n",
    "aes_rate = 17 * 10**6 / 8  # bytes/sec\n",
    "\n",
    "for name, rate in (\"RSA\", rsa_rate), (\"AES\", aes_rate):\n",
    "    print(\n",
    "        f\"Decryption with {name} algorithm will take \"\n",
    "        f\"{humanize.precisedelta(calculate_decryption_time(file_size, rate), format='%.0f')}.\"\n",
    "    )"
   ]
  },
  {
   "attachments": {},
   "cell_type": "markdown",
   "metadata": {},
   "source": [
    "## 6.3"
   ]
  },
  {
   "cell_type": "code",
   "execution_count": null,
   "metadata": {},
   "outputs": [],
   "source": [
    "import math\n",
    "\n",
    "n = 120\n",
    "\n",
    "print(f\"Each employee have to store {n - 1} keys.\")\n",
    "print(f\"Total number of keys required is {math.comb(120, 2)}.\")"
   ]
  },
  {
   "attachments": {},
   "cell_type": "markdown",
   "metadata": {},
   "source": [
    "## 6.4"
   ]
  },
  {
   "attachments": {},
   "cell_type": "markdown",
   "metadata": {},
   "source": [
    "1. $15.7 \\cdot 3^3 = 423.9$ ms\n",
    "\n",
    "2. $15.7 \\cdot 15^3 = 52987.5$ ms $≈ 53$ sec\n",
    "\n",
    "3. $1.3 \\cdot 1.6^3 = 5.3$ ms\n",
    "\n",
    "   $1.3 \\cdot 3.2^3 = 42.6$ ms\n",
    "\n",
    "4. The advantage of ECC over the RSA is that the key length has to be increased much more slowly to enhance the security level."
   ]
  },
  {
   "attachments": {},
   "cell_type": "markdown",
   "metadata": {},
   "source": [
    "## 6.5"
   ]
  },
  {
   "cell_type": "code",
   "execution_count": null,
   "metadata": {},
   "outputs": [],
   "source": [
    "def gcd(a: int, b: int) -> int:\n",
    "    if a < b:\n",
    "        a, b = b, a\n",
    "    while b:\n",
    "        a, b = b, a % b\n",
    "    return a"
   ]
  },
  {
   "attachments": {},
   "cell_type": "markdown",
   "metadata": {},
   "source": [
    "1. $r_0 = 973,\\ r_1 = 301$\n",
    "\n",
    "    | $i$ | $r_{i-2} = q_{i-1} \\cdot r_{i-1} + r_i$ | $\\text{gcd}(r_{i-2}, r_{i-1}) = \\text{gcd}(r_{i-1}, r_{i})$ |\n",
    "    | --- | --------------------------------------- | ----------------------------------------------------------- |\n",
    "    | 2   | $973 = 3 \\cdot 301 + 70$                | $\\text{gcd}(973, 301) = \\text{gcd}(301, 70)$                |\n",
    "    | 3   | $301 = 4 \\cdot 70 + 21$                 | $\\text{gcd}(301, 70) = \\text{gcd}(70, 21)$                  |\n",
    "    | 4   | $70 = 3 \\cdot 21 + 7$                   | $\\text{gcd}(70, 21) = \\text{gcd}(21, 7)$                    |\n",
    "    | 5   | $21 = 3 \\cdot 7 + 0$                    | $\\text{gcd}(21, 7) = \\text{gcd}(7, 0) = 7$                  |"
   ]
  },
  {
   "cell_type": "code",
   "execution_count": null,
   "metadata": {},
   "outputs": [],
   "source": [
    "assert gcd(973, 301) == 7"
   ]
  },
  {
   "attachments": {},
   "cell_type": "markdown",
   "metadata": {},
   "source": [
    "\n",
    "1. $r_0 = 4001,\\ r_1 = 2689$\n",
    "\n",
    "    | $i$ | $r_{i-2} = q_{i-1} \\cdot r_{i-1} + r_i$ | $\\text{gcd}(r_{i-2}, r_{i-1}) = \\text{gcd}(r_{i-1}, r_{i})$ |\n",
    "    | --- | --------------------------------------- | ----------------------------------------------------------- |\n",
    "    | 2   | $4001 = 1 \\cdot 2689 + 1312$            | $\\text{gcd}(4001, 2689) = \\text{gcd}(2689, 1312)$           |\n",
    "    | 3   | $2689 = 2 \\cdot 1312 + 65$              | $\\text{gcd}(2689, 1312) = \\text{gcd}(1312, 65)$             |\n",
    "    | 4   | $1312 = 20 \\cdot 65 + 12$               | $\\text{gcd}(1312, 65) = \\text{gcd}(65, 12)$                 |\n",
    "    | 5   | $65 = 5 \\cdot 12 + 5$                   | $\\text{gcd}(65, 12) = \\text{gcd}(12, 5)$                    |\n",
    "    | 6   | $12 = 2 \\cdot 5 + 2$                    | $\\text{gcd}(12, 5) = \\text{gcd}(5, 2)$                      |\n",
    "    | 7   | $5 = 2 \\cdot 2+1$                       | $\\text{gcd}(5, 2) = \\text{gcd}(2, 1)$                       |\n",
    "    | 8   | $2 = 2 \\cdot 1+0$                       | $\\text{gcd}(2, 1) = \\text{gcd}(1, 0) = 1$                   |"
   ]
  },
  {
   "cell_type": "code",
   "execution_count": null,
   "metadata": {},
   "outputs": [],
   "source": [
    "assert gcd(4001, 2689) == 1"
   ]
  },
  {
   "attachments": {},
   "cell_type": "markdown",
   "metadata": {},
   "source": [
    "## 6.6"
   ]
  },
  {
   "cell_type": "code",
   "execution_count": null,
   "metadata": {},
   "outputs": [],
   "source": [
    "def xgcd(a: int, b: int) -> tuple[int, int, int]:\n",
    "    if a < b:\n",
    "        a, b = b, a\n",
    "\n",
    "    r = [b, a]\n",
    "    s = [0, 1]\n",
    "    t = [1, 0]\n",
    "\n",
    "    while r[-1]:\n",
    "        q = r[-2] // r[-1]\n",
    "        r[-2], r[-1] = r[-1], r[-2] % r[-1]\n",
    "        s[-2], s[-1] = s[-1], s[-2] - q * s[-1]\n",
    "        t[-2], t[-1] = t[-1], t[-2] - q * t[-1]\n",
    "\n",
    "    return r[-2], s[-2], t[-2]"
   ]
  },
  {
   "attachments": {},
   "cell_type": "markdown",
   "metadata": {},
   "source": [
    "1. $r_0 = 243,\\ r_1 = 198$\n",
    "\n",
    "   | $i$ | $r_{i-2} = q_{i-1} \\cdot r_{i-1} + r_i$ | $r_i = s_i r_0 + t_i r_1$ |\n",
    "   | --- | --------------------------------------- | ------------------------- |\n",
    "   | 2   | $243 = 1 \\cdot 198 + 45$                | $45 = [1]r_0 + [−1]r_1$   |\n",
    "   | 3   | $198 = 4 \\cdot 45 + 18$                 | $18 = [−4]r_0 + [5]r_1$   |\n",
    "   | 4   | $45 = 2 \\cdot 18 + 9$                   | $9 = [9]r_0 + [−11]r_1$   |\n",
    "   | 5   | $18 = 2 \\cdot 9 + 0$                    |                           |"
   ]
  },
  {
   "cell_type": "code",
   "execution_count": null,
   "metadata": {},
   "outputs": [],
   "source": [
    "assert xgcd(243, 198) == (9, 9, -11)"
   ]
  },
  {
   "attachments": {},
   "cell_type": "markdown",
   "metadata": {},
   "source": [
    "1. $r_0 = 3587,\\ r_1 = 1819$\n",
    "\n",
    "   | $i$ | $r_{i-2} = q_{i-1} \\cdot r_{i-1} + r_i$ | $r_i = s_i r_0 + t_i r_1$ |\n",
    "   | --- | --------------------------------------- | ------------------------- |\n",
    "   | 2   | $3587 = 1 \\cdot 1819 + 1768$            | $1768 = [1]r_0 + [−1]r_1$ |\n",
    "   | 3   | $1819 = 1 \\cdot 1768 + 51$              | $51 = [−1]r_0 + [2]r_1$   |\n",
    "   | 4   | $1768 = 34 \\cdot 51 + 34$               | $34 = [35]r_0 + [−69]r_1$ |\n",
    "   | 5   | $51 = 1 \\cdot 34 + 17$                  | $17 = [−36]r_0 + [71]r_1$ |\n",
    "   | 6   | $34 = 2 \\cdot 17 + 0$                   |                           |"
   ]
  },
  {
   "cell_type": "code",
   "execution_count": null,
   "metadata": {},
   "outputs": [],
   "source": [
    "assert xgcd(3587, 1819) == (17, -36, 71)"
   ]
  },
  {
   "attachments": {},
   "cell_type": "markdown",
   "metadata": {},
   "source": [
    "## 6.7"
   ]
  },
  {
   "cell_type": "code",
   "execution_count": null,
   "metadata": {},
   "outputs": [],
   "source": [
    "def minv(a: int, m: int) -> int:\n",
    "    gcd, _, t = xgcd(m, a)\n",
    "    if gcd == 1:\n",
    "        return t % m\n",
    "    raise ValueError(\"inverse does not exist\")"
   ]
  },
  {
   "attachments": {},
   "cell_type": "markdown",
   "metadata": {},
   "source": [
    "1. $a = r_1 = 7,\\ m = r_0 = 26$\n",
    "\n",
    "   | $i$ | $r_{i-2} = q_{i-1} \\cdot r_{i-1} + r_i$ | $r_i = s_i r_0 + t_i r_1$ |\n",
    "   | --- | --------------------------------------- | ------------------------- |\n",
    "   | 2   | $26 = 3 \\cdot 7 + 5$                    | $5 = [1]r_0 + [-3]r_1$    |\n",
    "   | 3   | $7 = 1 \\cdot 5 + 2$                     | $2 = [-1]r_0 + [4]r_1$    |\n",
    "   | 4   | $5 = 2 \\cdot 2 + 1$                     | $1 = [3]r_0 + [-11]r_1$   |\n",
    "   | 5   | $2 = 2 \\cdot 1 + 0$                     |                           |"
   ]
  },
  {
   "cell_type": "code",
   "execution_count": null,
   "metadata": {},
   "outputs": [],
   "source": [
    "a, m = 7, 26\n",
    "i = minv(a, m)\n",
    "\n",
    "assert i == -11 % m == 15\n",
    "assert a * i % m == 1"
   ]
  },
  {
   "attachments": {},
   "cell_type": "markdown",
   "metadata": {},
   "source": [
    "2. $r_1 = a = 19,\\ r_0 = m = 999$\n",
    "\n",
    "   | $i$ | $r_{i-2} = q_{i-1} \\cdot r_{i-1} + r_i$ | $r_i = s_i r_0 + t_i r_1$ |\n",
    "   | --- | --------------------------------------- | ------------------------- |\n",
    "   | 2   | $999 = 52 \\cdot 19 + 11$                | $11 = [1]r_0 + [52]r_1$   |\n",
    "   | 3   | $19 = 1 \\cdot 11 + 8$                   | $8 = [-1]r_0 + [53]r_1$   |\n",
    "   | 4   | $11 = 1 \\cdot 8 + 3$                    | $3 = [2]r_0 + [-105]r_1$  |\n",
    "   | 5   | $8 = 2 \\cdot 3 + 2$                     | $2 = [-5]r_0 + [263]r_1$  |\n",
    "   | 6   | $3 = 1 \\cdot 2 + 1$                     | $1 = [7]r_0 + [-368]r_1$  |\n",
    "   | 7   | $2 = 2 \\cdot 1 + 0$                     |                           |"
   ]
  },
  {
   "cell_type": "code",
   "execution_count": null,
   "metadata": {},
   "outputs": [],
   "source": [
    "a, m = 19, 999\n",
    "i = minv(a, m)\n",
    "\n",
    "assert i == -368 % m == 631\n",
    "assert a * i % m == 1"
   ]
  },
  {
   "cell_type": "markdown",
   "metadata": {},
   "source": [
    "## 6.8"
   ]
  },
  {
   "cell_type": "code",
   "execution_count": null,
   "metadata": {},
   "outputs": [],
   "source": [
    "def phi(m: int) -> int:\n",
    "    return sum(1 for n in range(m) if gcd(m, n) == 1)\n",
    "\n",
    "\n",
    "for m in 12, 15, 26:\n",
    "    print(f\"\\N{Greek Capital Letter Phi}({m}) = {phi(m)}\")"
   ]
  },
  {
   "attachments": {},
   "cell_type": "markdown",
   "metadata": {},
   "source": [
    "## 6.9"
   ]
  },
  {
   "attachments": {},
   "cell_type": "markdown",
   "metadata": {},
   "source": [
    "1. $m$ is prime:\n",
    "\n",
    "   $$\\Phi(m) = m^1 − m^0 = m − 1$$\n",
    "\n",
    "2. $m = p \\cdot q$, where $p$ and $q$ are primes:\n",
    "\n",
    "   $$\\Phi(m) = \\Phi(p \\cdot q) = (p^1 − p^0)(q^1 − q^0) = (p − 1)(q − 1)$$"
   ]
  },
  {
   "attachments": {},
   "cell_type": "markdown",
   "metadata": {},
   "source": [
    "## 6.10"
   ]
  },
  {
   "cell_type": "code",
   "execution_count": null,
   "metadata": {},
   "outputs": [],
   "source": [
    "def is_prime(n: int) -> bool:\n",
    "    return n in (7, 13)\n",
    "\n",
    "\n",
    "def are_coprime(a: int, b: int) -> bool:\n",
    "    return gcd(a, b) == 1\n",
    "\n",
    "\n",
    "def minv(a: int, n: int) -> int:\n",
    "    if is_prime(n):\n",
    "        return a ** (n - 2) % n\n",
    "\n",
    "    if are_coprime(a, n):\n",
    "        return a ** (phi(n) - 1) % n\n",
    "\n",
    "    raise ValueError(\"inverse does not exist\")\n",
    "\n",
    "\n",
    "for a, n in (4, 7), (5, 12), (6, 13):\n",
    "    print(\n",
    "        f\"{a}\\N{Superscript Minus}\\N{Superscript One} \\N{Identical To} {minv(a, n)} mod {n}\"\n",
    "    )"
   ]
  },
  {
   "attachments": {},
   "cell_type": "markdown",
   "metadata": {},
   "source": [
    "## 6.11"
   ]
  },
  {
   "cell_type": "code",
   "execution_count": null,
   "metadata": {},
   "outputs": [],
   "source": [
    "def verify_euler(m: int) -> bool:\n",
    "    return not any(are_coprime(a, m) ^ (a ** phi(m) % m == 1) for a in range(m))\n",
    "\n",
    "\n",
    "assert verify_euler(6) and verify_euler(9)"
   ]
  },
  {
   "attachments": {},
   "cell_type": "markdown",
   "metadata": {},
   "source": [
    "## 6.12\n",
    "\n",
    "Formula for finding the multiplicative inverse using Euler's Theorem:\n",
    "$$\n",
    "\\begin{align*}\n",
    "\n",
    "a^{\\Phi(m)} &\\equiv 1 \\mod m \\\\\n",
    "a^{\\Phi(m)−1} &\\equiv a^{−1} \\mod m\n",
    "\n",
    "\\end{align*}\n",
    "$$\n",
    "\n",
    "Plug $m = 26$ into the formula:\n",
    "$$\n",
    "\\begin{align*}\n",
    "\n",
    "a^{\\Phi(26)−1} &\\equiv a^{−1} \\mod 26 \\\\\n",
    "a^{11} &\\equiv a^{-1} \\mod 26\n",
    "\n",
    "\\end{align*}\n",
    "$$"
   ]
  },
  {
   "attachments": {},
   "cell_type": "markdown",
   "metadata": {},
   "source": [
    "\n",
    "## 6.13\n",
    "\n",
    "$$\n",
    "\\begin{align*}\n",
    "\n",
    "r_{-2} &= q_{-1}r_{-1} + r_0          &  r_{-1} &= q_0r_0 + r_1 \\\\\n",
    "r_{-2} &= q_{-1}(q_0r_0 + r_1) + r_0  &  r_{-1} &= [q_0]r_0 + [1]r_1 \\\\\n",
    "r_{-2} &= [1 + q_{-1}q_0]r_0 + [q_{-1}]r_1 \\\\\n",
    "\\\\\n",
    "s_{-2} &= 1 + q_{-1}q_0  &  s_{-1} &= q_0 \\\\\n",
    "t_{-2} &= q_{-1}         &  t_{-1} &= 1 \\\\\n",
    "\\\\\n",
    "s_0 &= s_{−2} − q_{−1}s_{−1}  &  s_1 &= s_{−1} − q_0s_{0} \\\\\n",
    "t_0 &= t_{−2} − q_{−1}t_{−1}  &  t_1 &= t_{−1} − q_0t_0 \\\\\n",
    "\\\\\n",
    "s_0 &= 1 + q_{-1}q_0 − q_{−1}q_0 = 1  &  s_1 &= q_0 − q_0 = 0 \\\\\n",
    "t_0 &= q_{-1} − q_{−1} = 0            &  t_1 &= 1 \\\\\n",
    "\n",
    "\\end{align*}\n",
    "$$"
   ]
  }
 ],
 "metadata": {
  "kernelspec": {
   "display_name": "Python 3",
   "language": "python",
   "name": "python3"
  },
  "language_info": {
   "codemirror_mode": {
    "name": "ipython",
    "version": 3
   },
   "file_extension": ".py",
   "mimetype": "text/x-python",
   "name": "python",
   "nbconvert_exporter": "python",
   "pygments_lexer": "ipython3",
   "version": "3.11.3"
  },
  "orig_nbformat": 4,
  "vscode": {
   "interpreter": {
    "hash": "916dbcbb3f70747c44a77c7bcd40155683ae19c65e1c03b4aa3499c5328201f1"
   }
  }
 },
 "nbformat": 4,
 "nbformat_minor": 2
}
