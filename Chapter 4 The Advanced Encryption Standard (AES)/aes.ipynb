{
 "cells": [
  {
   "cell_type": "markdown",
   "metadata": {},
   "source": [
    "# Problems of Chapter 4"
   ]
  },
  {
   "cell_type": "markdown",
   "metadata": {},
   "source": [
    "## 4.2"
   ]
  },
  {
   "cell_type": "code",
   "execution_count": null,
   "metadata": {},
   "outputs": [],
   "source": [
    "import tabulate\n",
    "\n",
    "\n",
    "def make_arithmetic_table(name, elements, op):\n",
    "    return tabulate.tabulate(\n",
    "        [[str(op(a, b)) for a in elements] for b in elements],\n",
    "        headers=[name, *map(str, elements)],\n",
    "        showindex=map(str, elements),\n",
    "        tablefmt=\"html\",\n",
    "    )"
   ]
  },
  {
   "cell_type": "code",
   "execution_count": null,
   "metadata": {},
   "outputs": [],
   "source": [
    "m = 7\n",
    "make_arithmetic_table(\"+\", range(m), lambda a, b: (a + b) % m)"
   ]
  },
  {
   "cell_type": "code",
   "execution_count": null,
   "metadata": {},
   "outputs": [],
   "source": [
    "make_arithmetic_table(\"*\", range(m), lambda a, b: (a * b) % m)"
   ]
  },
  {
   "cell_type": "markdown",
   "metadata": {},
   "source": [
    "## 4.3"
   ]
  },
  {
   "cell_type": "code",
   "execution_count": null,
   "metadata": {},
   "outputs": [],
   "source": [
    "from polynomial import PolyGF2\n",
    "\n",
    "p = PolyGF2(0b1011)\n",
    "elements = [PolyGF2(x) for x in range(2**p.degree)]\n",
    "make_arithmetic_table(\"*\", elements, lambda a, b: (a * b) % p)"
   ]
  },
  {
   "cell_type": "markdown",
   "metadata": {},
   "source": [
    "## 4.4"
   ]
  },
  {
   "cell_type": "code",
   "execution_count": null,
   "metadata": {},
   "outputs": [],
   "source": [
    "p = PolyGF2(0b10011)\n",
    "\n",
    "operands = [\n",
    "    (PolyGF2(0b0101), PolyGF2(0b1101)),\n",
    "    (PolyGF2(0b0101), PolyGF2(0b0011)),\n",
    "]\n",
    "\n",
    "for i, (a, x) in enumerate(operands, start=1):\n",
    "    print(f\"{i}. ({a}) + ({x}) = {a + x}\")"
   ]
  },
  {
   "cell_type": "markdown",
   "metadata": {},
   "source": [
    "## 4.6"
   ]
  },
  {
   "cell_type": "code",
   "execution_count": null,
   "metadata": {},
   "outputs": [],
   "source": [
    "def reciprocal(a: PolyGF2, p: PolyGF2) -> PolyGF2:\n",
    "    # brute-force search\n",
    "    for b in (PolyGF2(x) for x in range(1, 2**p.degree)):\n",
    "        if a * b % p == 1:\n",
    "            return b\n",
    "    raise ArithmeticError(f\"cannot find inverse of {a!r} in GF(2^{p.degree})\")\n",
    "\n",
    "\n",
    "p = PolyGF2(0b1_0001_1011)\n",
    "a = PolyGF2(0b0001_0011)\n",
    "x = PolyGF2(0b1100_1100)\n",
    "\n",
    "SUPERSCRIPT_MINUS_ONE = \"\\N{Superscript Minus}\\N{Superscript One}\"\n",
    "print(f\"({a})({x}){SUPERSCRIPT_MINUS_ONE} = {a * reciprocal(x, p) % p}\")"
   ]
  },
  {
   "cell_type": "markdown",
   "metadata": {},
   "source": [
    "## 4.8"
   ]
  },
  {
   "cell_type": "code",
   "execution_count": null,
   "metadata": {},
   "outputs": [],
   "source": [
    "from collections.abc import Iterator\n",
    "\n",
    "\n",
    "def find_irreducible_polys(degree: int) -> Iterator[PolyGF2]:\n",
    "    candidates = [PolyGF2(x) for x in range(2**degree, 2 ** (degree + 1))]\n",
    "    factors = [PolyGF2(x) for x in range(2, 2**degree)]\n",
    "\n",
    "    for candidate in candidates:\n",
    "        for factor in factors:\n",
    "            if candidate % factor == 0:\n",
    "                break\n",
    "        else:\n",
    "            yield candidate\n",
    "\n",
    "\n",
    "# https://mathworld.wolfram.com/IrreduciblePolynomial.html\n",
    "\n",
    "degrees = (3, 4)\n",
    "\n",
    "tabulate.tabulate(\n",
    "    [[\", \".join(str(x) for x in find_irreducible_polys(m))] for m in degrees],\n",
    "    headers=[\"m\", \"irreducible polynomials\"],\n",
    "    showindex=degrees,\n",
    "    tablefmt=\"html\",\n",
    ")"
   ]
  },
  {
   "attachments": {},
   "cell_type": "markdown",
   "metadata": {},
   "source": [
    "## 4.14"
   ]
  },
  {
   "cell_type": "code",
   "execution_count": null,
   "metadata": {},
   "outputs": [],
   "source": [
    "from aes.aes import S_BOX\n",
    "from aes.utils import matrix_by_vector\n",
    "\n",
    "# https://en.wikipedia.org/wiki/Rijndael_S-box#Forward_S-box\n",
    "\n",
    "# def affine_transformation(x: PolyGF2) -> PolyGF2:\n",
    "#     return x * 31 % 257 + 99\n",
    "\n",
    "A = (\n",
    "    (1, 0, 0, 0, 1, 1, 1, 1),\n",
    "    (1, 1, 0, 0, 0, 1, 1, 1),\n",
    "    (1, 1, 1, 0, 0, 0, 1, 1),\n",
    "    (1, 1, 1, 1, 0, 0, 0, 1),\n",
    "    (1, 1, 1, 1, 1, 0, 0, 0),\n",
    "    (0, 1, 1, 1, 1, 1, 0, 0),\n",
    "    (0, 0, 1, 1, 1, 1, 1, 0),\n",
    "    (0, 0, 0, 1, 1, 1, 1, 1),\n",
    ")\n",
    "\n",
    "b = (1, 1, 0, 0, 0, 1, 1, 0)\n",
    "\n",
    "\n",
    "def affine_transformation(x: PolyGF2) -> PolyGF2:\n",
    "    return PolyGF2.from_vector(matrix_by_vector(A, x)) + PolyGF2.from_vector(b)\n",
    "\n",
    "\n",
    "def aes_inverse(x: PolyGF2) -> PolyGF2:\n",
    "    if x == 0:\n",
    "        return x\n",
    "    return reciprocal(x, PolyGF2(0b1_0001_1011))\n",
    "\n",
    "\n",
    "given = (0x29, 0xF3, 0x01)\n",
    "\n",
    "assert all(S_BOX[x] == affine_transformation(aes_inverse(PolyGF2(x))) for x in given)\n",
    "assert S_BOX[0] == PolyGF2.from_vector(b)"
   ]
  }
 ],
 "metadata": {
  "kernelspec": {
   "display_name": "Python 3.10.8 64-bit",
   "language": "python",
   "name": "python3"
  },
  "language_info": {
   "codemirror_mode": {
    "name": "ipython",
    "version": 3
   },
   "file_extension": ".py",
   "mimetype": "text/x-python",
   "name": "python",
   "nbconvert_exporter": "python",
   "pygments_lexer": "ipython3",
   "version": "3.11.3"
  },
  "vscode": {
   "interpreter": {
    "hash": "1a3499d68ab34960d3253934d550634c1fe6298d20145e825c805bbe7e10ca5f"
   }
  }
 },
 "nbformat": 4,
 "nbformat_minor": 2
}
