{
 "cells": [
  {
   "cell_type": "markdown",
   "metadata": {},
   "source": [
    "# Problems of Chapter 1"
   ]
  },
  {
   "cell_type": "markdown",
   "metadata": {},
   "source": [
    "## 1.1"
   ]
  },
  {
   "cell_type": "code",
   "execution_count": null,
   "metadata": {},
   "outputs": [],
   "source": [
    "from collections import Counter\n",
    "import tabulate\n",
    "import re\n",
    "from string import ascii_lowercase\n",
    "\n",
    "\n",
    "ciphertext = \"\"\"lrvmnir bpr sumvbwvr jx bpr lmiwv yjeryrkbi jx qmbm wi\n",
    "bpr xjvni mkd ymibrut jx irhx wi bpr riirkvr jx\n",
    "ymbinlmtmipw utn qmumbr dj w ipmhh but bj rhnvwdmbr bpr\n",
    "yjeryrkbi jx bpr qmbm mvvjudwko bj yt wkbrusurbmbwjk\n",
    "lmird jk xjubt trmui jx ibndt\n",
    "wb wi kjb mk rmit bmiq bj rashmwk rmvp yjeryrkb mkd wbi\n",
    "iwokwxwvmkvr mkd ijyr ynib urymwk nkrashmwkrd bj ower m\n",
    "vjyshrbr rashmkmbwjk jkr cjnhd pmer bj lr fnmhwxwrd mkd\n",
    "wkiswurd bj invp mk rabrkb bpmb pr vjnhd urmvp bpr ibmbr\n",
    "jx rkhwopbrkrd ywkd vmsmlhr jx urvjokwgwko ijnkdhrii\n",
    "ijnkd mkd ipmsrhrii ipmsr w dj kjb drry ytirhx bpr xwkmh\n",
    "mnbpjuwbt lnb yt rasruwrkvr cwbp qmbm pmi hrxb kj djnlb\n",
    "bpmb bpr xjhhjcwko wi bpr sujsru msshwvmbwjk mkd\n",
    "wkbrusurbmbwjk w jxxru yt bprjuwri wk bpr pjsr bpmb bpr\n",
    "riirkvr jx jqwkmcmk qmumbr cwhh urymwk wkbmvb\"\"\"\n",
    "\n",
    "counter = Counter(dict.fromkeys(ascii_lowercase, 0))\n",
    "counter.update(re.sub(r\"\\W+\", \"\", ciphertext))\n",
    "total = sum(counter.values())\n",
    "\n",
    "# frequency distribution of ciphertext\n",
    "tabulate.tabulate(\n",
    "    [[letter, counter[letter] / total] for letter in sorted(counter)],\n",
    "    headers=[\"letter\", \"frequency\"],\n",
    "    floatfmt=\".4f\",\n",
    "    tablefmt=\"html\",\n",
    ")"
   ]
  },
  {
   "cell_type": "code",
   "execution_count": null,
   "metadata": {},
   "outputs": [],
   "source": [
    "from operator import itemgetter\n",
    "\n",
    "from ancient import SubstitutionCipher\n",
    "\n",
    "# letter frequencies of the English language\n",
    "letter_frequencies = [\n",
    "    (\"a\", 0.0817),\n",
    "    (\"b\", 0.0150),\n",
    "    (\"c\", 0.0278),\n",
    "    (\"d\", 0.0425),\n",
    "    (\"e\", 0.1270),\n",
    "    (\"f\", 0.0223),\n",
    "    (\"g\", 0.0202),\n",
    "    (\"h\", 0.0609),\n",
    "    (\"i\", 0.0697),\n",
    "    (\"j\", 0.0015),\n",
    "    (\"k\", 0.0403),\n",
    "    (\"l\", 0.0077),\n",
    "    (\"m\", 0.0675),\n",
    "    (\"n\", 0.0241),\n",
    "    (\"o\", 0.0751),\n",
    "    (\"p\", 0.0193),\n",
    "    (\"q\", 0.0010),\n",
    "    (\"r\", 0.0599),\n",
    "    (\"s\", 0.0633),\n",
    "    (\"t\", 0.0906),\n",
    "    (\"u\", 0.0276),\n",
    "    (\"v\", 0.0098),\n",
    "    (\"w\", 0.0236),\n",
    "    (\"x\", 0.0015),\n",
    "    (\"y\", 0.0197),\n",
    "    (\"z\", 0.0007),\n",
    "]\n",
    "\n",
    "letter_frequencies.sort(key=itemgetter(1), reverse=True)\n",
    "table = {x: y for (x, _), (y, _) in zip(letter_frequencies, counter.most_common())}\n",
    "\n",
    "# unfortunately more than half of the letters have to be tweaked manually\n",
    "tweaked_letters = {\n",
    "    \"z\": \"g\",\n",
    "    \"q\": \"f\",\n",
    "    \"x\": \"a\",\n",
    "    \"l\": \"h\",\n",
    "    \"k\": \"q\",\n",
    "    \"p\": \"s\",\n",
    "    \"f\": \"x\",\n",
    "    \"u\": \"n\",\n",
    "    \"w\": \"c\",\n",
    "    \"n\": \"k\",\n",
    "    \"o\": \"j\",\n",
    "    \"i\": \"w\",\n",
    "    \"m\": \"y\",\n",
    "    \"g\": \"o\",\n",
    "    \"b\": \"l\",\n",
    "    \"y\": \"t\",\n",
    "    \"v\": \"e\",\n",
    "    \"j\": \"z\",\n",
    "}\n",
    "\n",
    "table.update(tweaked_letters)\n",
    "print(SubstitutionCipher(table).decode(ciphertext))"
   ]
  },
  {
   "cell_type": "markdown",
   "metadata": {},
   "source": [
    "## 1.2"
   ]
  },
  {
   "cell_type": "code",
   "execution_count": null,
   "metadata": {},
   "outputs": [],
   "source": [
    "from ancient import CaesarCipher\n",
    "\n",
    "# to break the Caesar Cipher we need to correctly identify only one letter\n",
    "\n",
    "ciphertext = \"xultpaajcxitltlxaarpjhtiwtgxktghidhipxciwtvgtpilpitghlxiwiwtxgqadds\"\n",
    "counter = Counter(ciphertext)\n",
    "\n",
    "x = max(letter_frequencies, key=itemgetter(1))[0]  # most common English letter\n",
    "y = counter.most_common(1)[0][0]  # most common letter in ciphertext\n",
    "k = (ord(y) - ord(x)) % 26\n",
    "\n",
    "print(f\"{k = }\")\n",
    "print(CaesarCipher(k).decode(ciphertext))"
   ]
  },
  {
   "attachments": {},
   "cell_type": "markdown",
   "metadata": {},
   "source": [
    "## 1.4"
   ]
  },
  {
   "cell_type": "markdown",
   "metadata": {},
   "source": [
    "\n",
    "1. key space: $128^8 = 2^{56}$\n",
    "\n",
    "2. key length: $7 \\cdot 8 = 56$ bits\n",
    "\n",
    "3. Actual key length is $56$ bits, just like before. The *effective* key length is $\\left\\lceil \\log_2 {26^8} \\right\\rceil = {38}$ bits.\n",
    "\n",
    "4. Again, we are interested in achieving the effective key length:\n",
    "\n",
    "   - $\\left\\lceil 128 / 7 \\right\\rceil = 19$ characters\n",
    "\n",
    "   - $\\left\\lceil \\log_{26} 2^{128} \\right\\rceil = 28$ letters"
   ]
  },
  {
   "attachments": {},
   "cell_type": "markdown",
   "metadata": {},
   "source": [
    "## 1.6"
   ]
  },
  {
   "cell_type": "code",
   "execution_count": null,
   "metadata": {},
   "outputs": [],
   "source": [
    "def inv(a: int, m: int) -> int:\n",
    "    for x in range(1, m):\n",
    "        if a * x % m == 1:\n",
    "            return x\n",
    "    raise ArithmeticError(f\"{a=} does not have inverse module {m=}\")\n",
    "\n",
    "\n",
    "print(f\"1/5 = {inv(5, 13)} mod 13\")\n",
    "print(f\"1/5 = {inv(5, 7)} mod 7\")\n",
    "print(f\"3 * 2/5 = {3 * 2 * inv(5, 7) % 7 } mod 7\")"
   ]
  },
  {
   "attachments": {},
   "cell_type": "markdown",
   "metadata": {},
   "source": [
    "\n",
    "## 1.8"
   ]
  },
  {
   "cell_type": "code",
   "execution_count": null,
   "metadata": {},
   "outputs": [],
   "source": [
    "for m in (11, 12, 13):\n",
    "    print(f\"1/5 = {inv(5, m)} mod {m}\")"
   ]
  },
  {
   "cell_type": "markdown",
   "metadata": {},
   "source": [
    "## 1.10"
   ]
  },
  {
   "cell_type": "code",
   "execution_count": null,
   "metadata": {},
   "outputs": [],
   "source": [
    "import math\n",
    "\n",
    "# https://en.wikipedia.org/wiki/Totative\n",
    "\n",
    "tabulate.tabulate(\n",
    "    [\n",
    "        [m, totatives := {n for n in range(m) if math.gcd(n, m) == 1}, len(totatives)]\n",
    "        for m in (4, 5, 9, 26)\n",
    "    ],\n",
    "    headers=[\"m\", \"totatives of m\", \"phi(m)\"],\n",
    "    tablefmt=\"html\",\n",
    ")"
   ]
  },
  {
   "attachments": {},
   "cell_type": "markdown",
   "metadata": {},
   "source": [
    "## 1.12"
   ]
  },
  {
   "attachments": {},
   "cell_type": "markdown",
   "metadata": {},
   "source": [
    "Let $x, y, a, b \\in \\mathbb{Z}_{30}$<br>\n",
    "Encryption: $e_k(x) = y \\equiv a \\cdot x + b \\mod 30$.<br>\n",
    "Decryption: $d_k(y) = x \\equiv a^{−1}  \\cdot (y − b) \\mod 30$.<br>\n",
    "with the key: $k = (a, b)$, which has the restriction: $\\gcd(a, 30) = 1$."
   ]
  },
  {
   "cell_type": "code",
   "execution_count": null,
   "metadata": {},
   "outputs": [],
   "source": [
    "from ancient import AffineCipher\n",
    "\n",
    "\n",
    "def phi(m: int) -> int:\n",
    "    return sum(1 for n in range(m) if math.gcd(n, m) == 1)\n",
    "\n",
    "\n",
    "german_alphabet = ascii_lowercase + \"äöüß\"\n",
    "m = len(german_alphabet)\n",
    "print(f\"key space = {phi(m) * m}\")\n",
    "\n",
    "key = (17, 1)\n",
    "ciphertext = \"äußwß\"\n",
    "print(AffineCipher(key, german_alphabet).decode(ciphertext))"
   ]
  },
  {
   "cell_type": "markdown",
   "metadata": {},
   "source": [
    "## 1.14"
   ]
  },
  {
   "cell_type": "code",
   "execution_count": null,
   "metadata": {},
   "outputs": [],
   "source": [
    "a1, b1 = 3, 5\n",
    "a2, b2 = 11, 7\n",
    "a3, b3 = (a1 * a2) % 26, (a2 * b1 + b2) % 26\n",
    "\n",
    "assert a3 in {1, 3, 5, 7, 9, 11, 15, 17, 19, 21, 23, 25}\n",
    "\n",
    "print(f\"{(a3, b3) = }\")"
   ]
  },
  {
   "cell_type": "code",
   "execution_count": null,
   "metadata": {},
   "outputs": [],
   "source": [
    "e1 = AffineCipher((a1, b1)).encode\n",
    "e2 = AffineCipher((a2, b2)).encode\n",
    "e3 = AffineCipher((a3, b3)).encode\n",
    "\n",
    "assert e2(e1(\"K\")) == e3(\"K\")"
   ]
  },
  {
   "cell_type": "markdown",
   "metadata": {},
   "source": [
    "In general, for $i$ number of applications of the affine cipher, we can express $a,b$ as:\n",
    "$$\n",
    "\\begin{align*}\n",
    "a &= \\prod_{i = 1}^n a_i \\mod 26\\\\\n",
    "b &= \\sum_{i = 1}^n \\bigl( b_i \\prod_{j = i + 1}^n a_j \\bigr) \\mod 26\n",
    "\\end{align*}\n",
    "$$"
   ]
  },
  {
   "cell_type": "code",
   "execution_count": null,
   "metadata": {},
   "outputs": [],
   "source": [
    "import random\n",
    "from typing import NamedTuple\n",
    "\n",
    "\n",
    "class AffineKey(NamedTuple):\n",
    "    a: int\n",
    "    b: int\n",
    "\n",
    "    @classmethod\n",
    "    def generate_random_key(cls) -> \"AffineKey\":\n",
    "        a = random.choice([1, 3, 5, 7, 9, 11, 15, 17, 19, 21, 23, 25])\n",
    "        b = random.randint(1, 25)\n",
    "        return cls(a, b)\n",
    "\n",
    "\n",
    "k1 = AffineKey.generate_random_key()\n",
    "k2 = AffineKey.generate_random_key()\n",
    "k3 = AffineKey.generate_random_key()\n",
    "\n",
    "e1 = AffineCipher(k1).encode\n",
    "e2 = AffineCipher(k2).encode\n",
    "e3 = AffineCipher(k3).encode\n",
    "\n",
    "\n",
    "def e4(plaintext: str, *keys: AffineKey) -> str:\n",
    "    a, b = 1, 0\n",
    "    for ai, bi in reversed(keys):\n",
    "        b += a * bi\n",
    "        a *= ai\n",
    "    return AffineCipher((a, b)).encode(plaintext)\n",
    "\n",
    "\n",
    "assert e3(e2(e1(\"K\"))) == e4(\"K\", k1, k2, k3)"
   ]
  }
 ],
 "metadata": {
  "kernelspec": {
   "display_name": "Python 3.10.8 64-bit",
   "language": "python",
   "name": "python3"
  },
  "language_info": {
   "codemirror_mode": {
    "name": "ipython",
    "version": 3
   },
   "file_extension": ".py",
   "mimetype": "text/x-python",
   "name": "python",
   "nbconvert_exporter": "python",
   "pygments_lexer": "ipython3",
   "version": "3.11.3"
  },
  "vscode": {
   "interpreter": {
    "hash": "1a3499d68ab34960d3253934d550634c1fe6298d20145e825c805bbe7e10ca5f"
   }
  }
 },
 "nbformat": 4,
 "nbformat_minor": 2
}
